{
 "cells": [
  {
   "cell_type": "code",
   "execution_count": 2,
   "metadata": {
    "collapsed": true
   },
   "outputs": [],
   "source": [
    "%matplotlib inline\n",
    "\n",
    "import pandas as pd\n",
    "import matplotlib.pyplot as plt\n",
    "import seaborn as sns\n",
    "import numpy as np\n",
    "\n",
    "from sklearn.preprocessing import scale"
   ]
  },
  {
   "cell_type": "code",
   "execution_count": 71,
   "metadata": {
    "collapsed": false
   },
   "outputs": [],
   "source": [
    "houses = pd.read_csv('house_prices.csv')"
   ]
  },
  {
   "cell_type": "code",
   "execution_count": 72,
   "metadata": {
    "collapsed": false
   },
   "outputs": [
    {
     "data": {
      "text/plain": [
       "<matplotlib.collections.PathCollection at 0x10c5e6cc0>"
      ]
     },
     "execution_count": 72,
     "metadata": {},
     "output_type": "execute_result"
    },
    {
     "data": {
      "image/png": "[encoded data removed]",
      "text/plain": [
       "<matplotlib.figure.Figure at 0x10c49cba8>"
      ]
     },
     "metadata": {},
     "output_type": "display_data"
    }
   ],
   "source": [
    "plt.figure(1)\n",
    "plt.subplot(211)\n",
    "plt.xlabel('sq. feet')\n",
    "plt.ylabel('price (\\'000)')\n",
    "plt.scatter(scale(houses['sqft']), scale(houses['price']))\n",
    "plt.subplot(212)\n",
    "plt.xlabel('rooms')\n",
    "plt.ylabel('price (\\'000)')\n",
    "plt.scatter(houses['rooms'], scale(houses['price']))"
   ]
  },
  {
   "cell_type": "code",
   "execution_count": 73,
   "metadata": {
    "collapsed": false
   },
   "outputs": [],
   "source": [
    "X = scale(houses[['sqft', 'rooms']].as_matrix())\n",
    "X = np.column_stack([np.ones([X.shape[0]]), X])\n",
    "y = scale(houses[['price']].as_matrix().ravel())"
   ]
  },
  {
   "cell_type": "code",
   "execution_count": 74,
   "metadata": {
    "collapsed": false
   },
   "outputs": [],
   "source": [
    "# Hypothesis function\n",
    "def h(theta, X):\n",
    "    return np.matmul(X, theta)\n",
    "\n",
    "# Cost function\n",
    "def J(theta, X, y):\n",
    "    d = h(theta, X) - y\n",
    "    return 0.5 * np.dot(d, d.T)"
   ]
  },
  {
   "cell_type": "code",
   "execution_count": 75,
   "metadata": {
    "collapsed": false
   },
   "outputs": [],
   "source": [
    "# One step of gradient descent\n",
    "def descend(theta, X, y, alpha=0.01):\n",
    "    error = h(theta, X) - y\n",
    "    t = theta - alpha * np.matmul(X.T, error)\n",
    "    return t, np.dot(error, error.T)"
   ]
  },
  {
   "cell_type": "code",
   "execution_count": 76,
   "metadata": {
    "collapsed": false
   },
   "outputs": [
    {
     "name": "stdout",
     "output_type": "stream",
     "text": [
      "epoch: 0, cost: 20.079774540230776\n",
      "epoch: 10, cost: 12.607192671309605\n",
      "epoch: 20, cost: 12.552124442287859\n",
      "epoch: 30, cost: 12.551589402068807\n",
      "epoch: 38, cost: 12.551584281495717\n",
      "theta: [ -8.16013923e-17   8.84721717e-01  -5.31345488e-02]\n"
     ]
    }
   ],
   "source": [
    "theta = np.zeros([X.shape[1]])\n",
    "\n",
    "theta, cost = descend(theta, X, y)\n",
    "for i in range(10000):\n",
    "    cost_ = cost\n",
    "    theta, cost = descend(theta, X, y)\n",
    "    if cost_ - cost < 0.0000001:\n",
    "        break\n",
    "        \n",
    "    if i % 10 == 0:\n",
    "        print(\"epoch: {0}, cost: {1}\".format(i, cost))\n",
    "\n",
    "print(\"epoch: {0}, cost: {1}\".format(i, cost))\n",
    "print(\"theta: {0}\".format(theta))"
   ]
  },
  {
   "cell_type": "code",
   "execution_count": 77,
   "metadata": {
    "collapsed": false
   },
   "outputs": [
    {
     "data": {
      "text/plain": [
       "array([ -8.09713360e-17,   8.84765988e-01,  -5.31788197e-02])"
      ]
     },
     "execution_count": 77,
     "metadata": {},
     "output_type": "execute_result"
    }
   ],
   "source": [
    "from sklearn.linear_model import LinearRegression\n",
    "\n",
    "l = LinearRegression(fit_intercept=False)\n",
    "l.fit(X, y)\n",
    "l.coef_"
   ]
  }
 ],
 "metadata": {
  "kernelspec": {
   "display_name": "Python 3",
   "language": "python",
   "name": "python3"
  },
  "language_info": {
   "codemirror_mode": {
    "name": "ipython",
    "version": 3
   },
   "file_extension": ".py",
   "mimetype": "text/x-python",
   "name": "python",
   "nbconvert_exporter": "python",
   "pygments_lexer": "ipython3",
   "version": "3.5.0"
  }
 },
 "nbformat": 4,
 "nbformat_minor": 0
}
